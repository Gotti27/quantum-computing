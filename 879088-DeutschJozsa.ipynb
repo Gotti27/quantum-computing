{
 "cells": [
  {
   "cell_type": "markdown",
   "metadata": {
    "id": "ilPV3VPemKk1"
   },
   "source": [
    "# Deutsch and Deutsch-Jozsa Algorithms\n",
    "These two algorithms allow us to determine if a function $f$ is constant or balanced.\n",
    "Let's first implement the first one\n",
    "## Deutsch Algorithm\n",
    "Let us consider the easiset variant of $f$ possible:\n",
    "- $ f(x) = c \\in \\lbrace 0,1 \\rbrace $ (constant)\n",
    "- $ f(x) =$ 0 if $x = 1$, 1 if $x = 0$ (balanced)\n",
    "\n",
    "That can be implemented in the quantum version using the following $U_f$:\n",
    "- simple wire or _I_ if constant\n",
    "- _cnot_ gate if balanced\n",
    "\n",
    "Thus we can create the two following quantum circuits:"
   ]
  },
  {
   "cell_type": "code",
   "execution_count": null,
   "metadata": {
    "colab": {
     "base_uri": "https://localhost:8080/"
    },
    "executionInfo": {
     "elapsed": 29536,
     "status": "ok",
     "timestamp": 1698604296928,
     "user": {
      "displayName": "Mario Gottardo",
      "userId": "06495389550172771747"
     },
     "user_tz": -60
    },
    "id": "1ChH2-_rjc6_",
    "outputId": "b6c7fe2d-0f56-43f2-8831-d1b3673e7167"
   },
   "outputs": [
    {
     "name": "stdout",
     "output_type": "stream",
     "text": [
      "Collecting qiskit\n",
      "  Downloading qiskit-0.44.3-py3-none-any.whl (8.2 kB)\n",
      "Collecting qiskit-terra==0.25.3 (from qiskit)\n",
      "  Downloading qiskit_terra-0.25.3-cp38-abi3-manylinux_2_17_x86_64.manylinux2014_x86_64.whl (6.2 MB)\n",
      "\u001b[2K     \u001b[90m━━━━━━━━━━━━━━━━━━━━━━━━━━━━━━━━━━━━━━━━\u001b[0m \u001b[32m6.2/6.2 MB\u001b[0m \u001b[31m14.5 MB/s\u001b[0m eta \u001b[36m0:00:00\u001b[0m\n",
      "\u001b[?25hCollecting rustworkx>=0.13.0 (from qiskit-terra==0.25.3->qiskit)\n",
      "  Downloading rustworkx-0.13.2-cp310-cp310-manylinux_2_17_x86_64.manylinux2014_x86_64.whl (2.0 MB)\n",
      "\u001b[2K     \u001b[90m━━━━━━━━━━━━━━━━━━━━━━━━━━━━━━━━━━━━━━━━\u001b[0m \u001b[32m2.0/2.0 MB\u001b[0m \u001b[31m33.5 MB/s\u001b[0m eta \u001b[36m0:00:00\u001b[0m\n",
      "\u001b[?25hRequirement already satisfied: numpy>=1.17 in /usr/local/lib/python3.10/dist-packages (from qiskit-terra==0.25.3->qiskit) (1.23.5)\n",
      "Collecting ply>=3.10 (from qiskit-terra==0.25.3->qiskit)\n",
      "  Downloading ply-3.11-py2.py3-none-any.whl (49 kB)\n",
      "\u001b[2K     \u001b[90m━━━━━━━━━━━━━━━━━━━━━━━━━━━━━━━━━━━━━━━━\u001b[0m \u001b[32m49.6/49.6 kB\u001b[0m \u001b[31m7.6 MB/s\u001b[0m eta \u001b[36m0:00:00\u001b[0m\n",
      "\u001b[?25hRequirement already satisfied: psutil>=5 in /usr/local/lib/python3.10/dist-packages (from qiskit-terra==0.25.3->qiskit) (5.9.5)\n",
      "Requirement already satisfied: scipy>=1.5 in /usr/local/lib/python3.10/dist-packages (from qiskit-terra==0.25.3->qiskit) (1.11.3)\n",
      "Requirement already satisfied: sympy>=1.3 in /usr/local/lib/python3.10/dist-packages (from qiskit-terra==0.25.3->qiskit) (1.12)\n",
      "Collecting dill>=0.3 (from qiskit-terra==0.25.3->qiskit)\n",
      "  Downloading dill-0.3.7-py3-none-any.whl (115 kB)\n",
      "\u001b[2K     \u001b[90m━━━━━━━━━━━━━━━━━━━━━━━━━━━━━━━━━━━━━━━━\u001b[0m \u001b[32m115.3/115.3 kB\u001b[0m \u001b[31m16.8 MB/s\u001b[0m eta \u001b[36m0:00:00\u001b[0m\n",
      "\u001b[?25hRequirement already satisfied: python-dateutil>=2.8.0 in /usr/local/lib/python3.10/dist-packages (from qiskit-terra==0.25.3->qiskit) (2.8.2)\n",
      "Collecting stevedore>=3.0.0 (from qiskit-terra==0.25.3->qiskit)\n",
      "  Downloading stevedore-5.1.0-py3-none-any.whl (49 kB)\n",
      "\u001b[2K     \u001b[90m━━━━━━━━━━━━━━━━━━━━━━━━━━━━━━━━━━━━━━━━\u001b[0m \u001b[32m49.6/49.6 kB\u001b[0m \u001b[31m7.7 MB/s\u001b[0m eta \u001b[36m0:00:00\u001b[0m\n",
      "\u001b[?25hCollecting symengine<0.10,>=0.9 (from qiskit-terra==0.25.3->qiskit)\n",
      "  Downloading symengine-0.9.2-cp310-cp310-manylinux2010_x86_64.whl (37.5 MB)\n",
      "\u001b[2K     \u001b[90m━━━━━━━━━━━━━━━━━━━━━━━━━━━━━━━━━━━━━━━━\u001b[0m \u001b[32m37.5/37.5 MB\u001b[0m \u001b[31m21.2 MB/s\u001b[0m eta \u001b[36m0:00:00\u001b[0m\n",
      "\u001b[?25hRequirement already satisfied: typing-extensions in /usr/local/lib/python3.10/dist-packages (from qiskit-terra==0.25.3->qiskit) (4.5.0)\n",
      "Requirement already satisfied: six>=1.5 in /usr/local/lib/python3.10/dist-packages (from python-dateutil>=2.8.0->qiskit-terra==0.25.3->qiskit) (1.16.0)\n",
      "Collecting pbr!=2.1.0,>=2.0.0 (from stevedore>=3.0.0->qiskit-terra==0.25.3->qiskit)\n",
      "  Downloading pbr-5.11.1-py2.py3-none-any.whl (112 kB)\n",
      "\u001b[2K     \u001b[90m━━━━━━━━━━━━━━━━━━━━━━━━━━━━━━━━━━━━━━━━\u001b[0m \u001b[32m112.7/112.7 kB\u001b[0m \u001b[31m10.8 MB/s\u001b[0m eta \u001b[36m0:00:00\u001b[0m\n",
      "\u001b[?25hRequirement already satisfied: mpmath>=0.19 in /usr/local/lib/python3.10/dist-packages (from sympy>=1.3->qiskit-terra==0.25.3->qiskit) (1.3.0)\n",
      "Installing collected packages: ply, symengine, rustworkx, pbr, dill, stevedore, qiskit-terra, qiskit\n",
      "Successfully installed dill-0.3.7 pbr-5.11.1 ply-3.11 qiskit-0.44.3 qiskit-terra-0.25.3 rustworkx-0.13.2 stevedore-5.1.0 symengine-0.9.2\n",
      "Collecting pylatexenc\n",
      "  Downloading pylatexenc-2.10.tar.gz (162 kB)\n",
      "\u001b[2K     \u001b[90m━━━━━━━━━━━━━━━━━━━━━━━━━━━━━━━━━━━━━━━━\u001b[0m \u001b[32m162.6/162.6 kB\u001b[0m \u001b[31m4.6 MB/s\u001b[0m eta \u001b[36m0:00:00\u001b[0m\n",
      "\u001b[?25h  Preparing metadata (setup.py) ... \u001b[?25l\u001b[?25hdone\n",
      "Building wheels for collected packages: pylatexenc\n",
      "  Building wheel for pylatexenc (setup.py) ... \u001b[?25l\u001b[?25hdone\n",
      "  Created wheel for pylatexenc: filename=pylatexenc-2.10-py3-none-any.whl size=136818 sha256=0152b7fcaac4d13bb6893d5e64e8f888de6a7dc6fd5153dc8be21dfd5d2e8b3e\n",
      "  Stored in directory: /root/.cache/pip/wheels/d3/31/8b/e09b0386afd80cfc556c00408c9aeea5c35c4d484a9c762fd5\n",
      "Successfully built pylatexenc\n",
      "Installing collected packages: pylatexenc\n",
      "Successfully installed pylatexenc-2.10\n",
      "Collecting qiskit-aer\n",
      "  Downloading qiskit_aer-0.13.0-cp310-cp310-manylinux_2_17_x86_64.manylinux2014_x86_64.whl (12.3 MB)\n",
      "\u001b[2K     \u001b[90m━━━━━━━━━━━━━━━━━━━━━━━━━━━━━━━━━━━━━━━━\u001b[0m \u001b[32m12.3/12.3 MB\u001b[0m \u001b[31m34.1 MB/s\u001b[0m eta \u001b[36m0:00:00\u001b[0m\n",
      "\u001b[?25hRequirement already satisfied: qiskit>=0.44.0 in /usr/local/lib/python3.10/dist-packages (from qiskit-aer) (0.44.3)\n",
      "Requirement already satisfied: numpy>=1.16.3 in /usr/local/lib/python3.10/dist-packages (from qiskit-aer) (1.23.5)\n",
      "Requirement already satisfied: scipy>=1.0 in /usr/local/lib/python3.10/dist-packages (from qiskit-aer) (1.11.3)\n",
      "Requirement already satisfied: qiskit-terra==0.25.3 in /usr/local/lib/python3.10/dist-packages (from qiskit>=0.44.0->qiskit-aer) (0.25.3)\n",
      "Requirement already satisfied: rustworkx>=0.13.0 in /usr/local/lib/python3.10/dist-packages (from qiskit-terra==0.25.3->qiskit>=0.44.0->qiskit-aer) (0.13.2)\n",
      "Requirement already satisfied: ply>=3.10 in /usr/local/lib/python3.10/dist-packages (from qiskit-terra==0.25.3->qiskit>=0.44.0->qiskit-aer) (3.11)\n",
      "Requirement already satisfied: psutil>=5 in /usr/local/lib/python3.10/dist-packages (from qiskit-terra==0.25.3->qiskit>=0.44.0->qiskit-aer) (5.9.5)\n",
      "Requirement already satisfied: sympy>=1.3 in /usr/local/lib/python3.10/dist-packages (from qiskit-terra==0.25.3->qiskit>=0.44.0->qiskit-aer) (1.12)\n",
      "Requirement already satisfied: dill>=0.3 in /usr/local/lib/python3.10/dist-packages (from qiskit-terra==0.25.3->qiskit>=0.44.0->qiskit-aer) (0.3.7)\n",
      "Requirement already satisfied: python-dateutil>=2.8.0 in /usr/local/lib/python3.10/dist-packages (from qiskit-terra==0.25.3->qiskit>=0.44.0->qiskit-aer) (2.8.2)\n",
      "Requirement already satisfied: stevedore>=3.0.0 in /usr/local/lib/python3.10/dist-packages (from qiskit-terra==0.25.3->qiskit>=0.44.0->qiskit-aer) (5.1.0)\n",
      "Requirement already satisfied: symengine<0.10,>=0.9 in /usr/local/lib/python3.10/dist-packages (from qiskit-terra==0.25.3->qiskit>=0.44.0->qiskit-aer) (0.9.2)\n",
      "Requirement already satisfied: typing-extensions in /usr/local/lib/python3.10/dist-packages (from qiskit-terra==0.25.3->qiskit>=0.44.0->qiskit-aer) (4.5.0)\n",
      "Requirement already satisfied: six>=1.5 in /usr/local/lib/python3.10/dist-packages (from python-dateutil>=2.8.0->qiskit-terra==0.25.3->qiskit>=0.44.0->qiskit-aer) (1.16.0)\n",
      "Requirement already satisfied: pbr!=2.1.0,>=2.0.0 in /usr/local/lib/python3.10/dist-packages (from stevedore>=3.0.0->qiskit-terra==0.25.3->qiskit>=0.44.0->qiskit-aer) (5.11.1)\n",
      "Requirement already satisfied: mpmath>=0.19 in /usr/local/lib/python3.10/dist-packages (from sympy>=1.3->qiskit-terra==0.25.3->qiskit>=0.44.0->qiskit-aer) (1.3.0)\n",
      "Installing collected packages: qiskit-aer\n",
      "Successfully installed qiskit-aer-0.13.0\n"
     ]
    }
   ],
   "source": [
    "!pip install qiskit\n",
    "!pip install pylatexenc\n",
    "!pip install qiskit-aer\n",
    "\n",
    "from qiskit import QuantumCircuit\n",
    "from qiskit.quantum_info import Statevector\n",
    "from qiskit.circuit import QuantumRegister, ClassicalRegister, Parameter\n",
    "from qiskit import transpile\n",
    "from qiskit.providers.aer import QasmSimulator"
   ]
  },
  {
   "cell_type": "code",
   "execution_count": null,
   "metadata": {
    "colab": {
     "base_uri": "https://localhost:8080/",
     "height": 255
    },
    "executionInfo": {
     "elapsed": 541,
     "status": "ok",
     "timestamp": 1698604297466,
     "user": {
      "displayName": "Mario Gottardo",
      "userId": "06495389550172771747"
     },
     "user_tz": -60
    },
    "id": "yl2HyAs9nYr0",
    "outputId": "1aa14989-99d0-4132-9db1-502d8cf47086"
   },
   "outputs": [
    {
     "data": {
      "image/png": "[encoded data removed]",
      "text/plain": [
       "<Figure size 203.683x284.278 with 1 Axes>"
      ]
     },
     "execution_count": 3,
     "metadata": {},
     "output_type": "execute_result"
    }
   ],
   "source": [
    "# Uf implementing a constant function f\n",
    "constant_uf = QuantumCircuit(2,1)\n",
    "constant_uf.i(1)\n",
    "constant_uf.draw('mpl')"
   ]
  },
  {
   "cell_type": "code",
   "execution_count": null,
   "metadata": {
    "colab": {
     "base_uri": "https://localhost:8080/",
     "height": 255
    },
    "executionInfo": {
     "elapsed": 268,
     "status": "ok",
     "timestamp": 1698604297725,
     "user": {
      "displayName": "Mario Gottardo",
      "userId": "06495389550172771747"
     },
     "user_tz": -60
    },
    "id": "S0y2tZxiqe1J",
    "outputId": "a63b7610-ca67-4eb3-f695-8922234186ff"
   },
   "outputs": [
    {
     "data": {
      "image/png": "[encoded data removed]",
      "text/plain": [
       "<Figure size 203.683x284.278 with 1 Axes>"
      ]
     },
     "execution_count": 4,
     "metadata": {},
     "output_type": "execute_result"
    }
   ],
   "source": [
    "# Uf implementing a balanced function f\n",
    "balanced_uf = QuantumCircuit(2,1)\n",
    "balanced_uf.cnot(0,1)\n",
    "balanced_uf.draw('mpl')"
   ]
  },
  {
   "cell_type": "markdown",
   "metadata": {
    "id": "bGWwhZJ9r8Zg"
   },
   "source": [
    "Thus we can now build two possible quantum circuits using one of the previous unary transformations.\n",
    "The common base will be composed by two circuits, i.e. the head and the tail, composed as stated in the formal algorithm definition.\n",
    "As a shortcut to initialize the state as |01>, I initialized the state as |00> and then applied an $X$ gate to the second qubit."
   ]
  },
  {
   "cell_type": "code",
   "execution_count": null,
   "metadata": {
    "colab": {
     "base_uri": "https://localhost:8080/",
     "height": 255
    },
    "executionInfo": {
     "elapsed": 543,
     "status": "ok",
     "timestamp": 1698604341093,
     "user": {
      "displayName": "Mario Gottardo",
      "userId": "06495389550172771747"
     },
     "user_tz": -60
    },
    "id": "h11vLlRvqG0c",
    "outputId": "e9c4f811-75c4-4060-b193-8068b4c6c6ba"
   },
   "outputs": [
    {
     "data": {
      "image/png": "[encoded data removed]",
      "text/plain": [
       "<Figure size 370.906x284.278 with 1 Axes>"
      ]
     },
     "execution_count": 7,
     "metadata": {},
     "output_type": "execute_result"
    }
   ],
   "source": [
    "head = QuantumCircuit(2,1)\n",
    "head.x(1)\n",
    "head.h(0)\n",
    "head.h(1)\n",
    "head.barrier(range(2))\n",
    "head.draw('mpl')"
   ]
  },
  {
   "cell_type": "code",
   "execution_count": null,
   "metadata": {
    "colab": {
     "base_uri": "https://localhost:8080/",
     "height": 255
    },
    "executionInfo": {
     "elapsed": 274,
     "status": "ok",
     "timestamp": 1698604342484,
     "user": {
      "displayName": "Mario Gottardo",
      "userId": "06495389550172771747"
     },
     "user_tz": -60
    },
    "id": "d0sLfmOKtSt5",
    "outputId": "c7ac9372-4c74-436f-8f8b-758e63dd351c"
   },
   "outputs": [
    {
     "data": {
      "image/png": "[encoded data removed]",
      "text/plain": [
       "<Figure size 370.906x284.278 with 1 Axes>"
      ]
     },
     "execution_count": 8,
     "metadata": {},
     "output_type": "execute_result"
    }
   ],
   "source": [
    "tail = QuantumCircuit(2,1)\n",
    "tail.barrier(range(2))\n",
    "tail.h(0)\n",
    "tail.measure(0,0)\n",
    "tail.draw('mpl')"
   ]
  },
  {
   "cell_type": "markdown",
   "metadata": {
    "id": "fRaI3TGmxZCM"
   },
   "source": [
    "Here's the final quantum circuit:"
   ]
  },
  {
   "cell_type": "code",
   "execution_count": null,
   "metadata": {
    "colab": {
     "base_uri": "https://localhost:8080/",
     "height": 255
    },
    "executionInfo": {
     "elapsed": 421,
     "status": "ok",
     "timestamp": 1698604628456,
     "user": {
      "displayName": "Mario Gottardo",
      "userId": "06495389550172771747"
     },
     "user_tz": -60
    },
    "id": "6FKT__84t2J-",
    "outputId": "48dae772-ddb3-4327-8bda-f03c39c054c1"
   },
   "outputs": [
    {
     "data": {
      "image/png": "[encoded data removed]",
      "text/plain": [
       "<Figure size 705.35x284.278 with 1 Axes>"
      ]
     },
     "execution_count": 15,
     "metadata": {},
     "output_type": "execute_result"
    }
   ],
   "source": [
    "circuit = head.compose(balanced_uf).compose(tail)\n",
    "circuit.draw('mpl')"
   ]
  },
  {
   "cell_type": "markdown",
   "metadata": {
    "id": "UcB9SbrQyE14"
   },
   "source": [
    "Then we can simulate the circuit and check the output"
   ]
  },
  {
   "cell_type": "code",
   "execution_count": null,
   "metadata": {
    "colab": {
     "base_uri": "https://localhost:8080/"
    },
    "executionInfo": {
     "elapsed": 267,
     "status": "ok",
     "timestamp": 1698606879608,
     "user": {
      "displayName": "Mario Gottardo",
      "userId": "06495389550172771747"
     },
     "user_tz": -60
    },
    "id": "Mos30dWOifwW",
    "outputId": "88726c14-e3cc-424c-e04b-a62b2a3881f2"
   },
   "outputs": [
    {
     "data": {
      "text/plain": [
       "{'1': 1024}"
      ]
     },
     "execution_count": 46,
     "metadata": {},
     "output_type": "execute_result"
    }
   ],
   "source": [
    "backend = QasmSimulator()\n",
    "\n",
    "compiled = transpile(circuit, backend)\n",
    "counts = backend.run(compiled).result().get_counts(compiled)\n",
    "counts"
   ]
  },
  {
   "cell_type": "code",
   "execution_count": null,
   "metadata": {
    "colab": {
     "base_uri": "https://localhost:8080/",
     "height": 449
    },
    "executionInfo": {
     "elapsed": 697,
     "status": "ok",
     "timestamp": 1698606881919,
     "user": {
      "displayName": "Mario Gottardo",
      "userId": "06495389550172771747"
     },
     "user_tz": -60
    },
    "id": "rVWJWHFkjVar",
    "outputId": "b7dfa233-d39e-4b6b-a681-df6c628a9a6b"
   },
   "outputs": [
    {
     "data": {
      "image/png": "[encoded data removed]",
      "text/plain": [
       "<Figure size 700x500 with 1 Axes>"
      ]
     },
     "execution_count": 47,
     "metadata": {},
     "output_type": "execute_result"
    }
   ],
   "source": [
    "from qiskit.visualization import plot_histogram\n",
    "plot_histogram(counts)"
   ]
  },
  {
   "cell_type": "markdown",
   "metadata": {
    "id": "LVIIHp2fyOZY"
   },
   "source": [
    "As expected, the function was balanced, thus the output is 1."
   ]
  },
  {
   "cell_type": "markdown",
   "metadata": {
    "id": "CzHWLwDzybrB"
   },
   "source": [
    "# Deutsch-Jozsa Algorithms\n",
    "The Deutsch-Jozsa Algorithm is a generalization of the Deutsch one.\n",
    "So, to implement it, we just have to generalize the number of input qubits in the unary transformation $U_f$.\n",
    "In this case $f$ will be considered a constant function."
   ]
  },
  {
   "cell_type": "code",
   "execution_count": null,
   "metadata": {
    "colab": {
     "base_uri": "https://localhost:8080/",
     "height": 384
    },
    "executionInfo": {
     "elapsed": 756,
     "status": "ok",
     "timestamp": 1698606850935,
     "user": {
      "displayName": "Mario Gottardo",
      "userId": "06495389550172771747"
     },
     "user_tz": -60
    },
    "id": "P5TBrRwRzRix",
    "outputId": "949a3869-641b-4c85-e016-f05f64b59fce"
   },
   "outputs": [
    {
     "data": {
      "image/png": "[encoded data removed]",
      "text/plain": [
       "<Figure size 872.774x451.5 with 1 Axes>"
      ]
     },
     "execution_count": 43,
     "metadata": {},
     "output_type": "execute_result"
    }
   ],
   "source": [
    "n = 4\n",
    "\n",
    "def head_builder(qubits=2):\n",
    "  head = QuantumCircuit(qubits, qubits - 1)\n",
    "  head.x(qubits - 1)\n",
    "  for i in range(qubits):\n",
    "    head.h(i)\n",
    "\n",
    "  head.barrier(range(qubits))\n",
    "  # head.draw('mpl')\n",
    "  return head\n",
    "\n",
    "def constant_uf_builder(qubits=2):\n",
    "  constant_uf = QuantumCircuit(qubits,qubits - 1)\n",
    "  constant_uf.i(qubits - 1)\n",
    "  return constant_uf\n",
    "\n",
    "def tail_builder(qubits=2):\n",
    "  tail = QuantumCircuit(qubits,qubits-1)\n",
    "  tail.barrier(range(qubits))\n",
    "  for i in range(qubits - 1):\n",
    "    tail.h(i)\n",
    "    tail.measure(i,i)\n",
    "\n",
    "  return tail\n",
    "\n",
    "deutsch_jozsa = head_builder(n).compose(constant_uf_builder(n)).compose(tail_builder(n))\n",
    "deutsch_jozsa.draw('mpl')"
   ]
  },
  {
   "cell_type": "code",
   "execution_count": null,
   "metadata": {
    "colab": {
     "base_uri": "https://localhost:8080/"
    },
    "executionInfo": {
     "elapsed": 427,
     "status": "ok",
     "timestamp": 1698606894054,
     "user": {
      "displayName": "Mario Gottardo",
      "userId": "06495389550172771747"
     },
     "user_tz": -60
    },
    "id": "c1eiLebs2pX5",
    "outputId": "8d443312-7bb8-4c60-ed15-839f91c041b1"
   },
   "outputs": [
    {
     "data": {
      "text/plain": [
       "{'000': 1024}"
      ]
     },
     "execution_count": 48,
     "metadata": {},
     "output_type": "execute_result"
    }
   ],
   "source": [
    "compiled = transpile(deutsch_jozsa, backend)\n",
    "counts = backend.run(compiled).result().get_counts(compiled)\n",
    "counts"
   ]
  },
  {
   "cell_type": "code",
   "execution_count": null,
   "metadata": {
    "colab": {
     "base_uri": "https://localhost:8080/",
     "height": 472
    },
    "executionInfo": {
     "elapsed": 285,
     "status": "ok",
     "timestamp": 1698606912224,
     "user": {
      "displayName": "Mario Gottardo",
      "userId": "06495389550172771747"
     },
     "user_tz": -60
    },
    "id": "xZlE96Mv3HYW",
    "outputId": "30d6128b-5245-4311-c309-ff25520341ec"
   },
   "outputs": [
    {
     "data": {
      "image/png": "[encoded data removed]",
      "text/plain": [
       "<Figure size 700x500 with 1 Axes>"
      ]
     },
     "execution_count": 49,
     "metadata": {},
     "output_type": "execute_result"
    }
   ],
   "source": [
    "from qiskit.visualization import plot_histogram\n",
    "plot_histogram(counts)"
   ]
  },
  {
   "cell_type": "markdown",
   "metadata": {
    "id": "JaJs6Gh93Qmw"
   },
   "source": [
    "As expected, the function was constant, thus the output is 0."
   ]
  }
 ],
 "metadata": {
  "colab": {
   "authorship_tag": "ABX9TyOtEk3QJ0mdXdoxaGB69I4k",
   "provenance": []
  },
  "kernelspec": {
   "display_name": "Python 3 (ipykernel)",
   "language": "python",
   "name": "python3"
  },
  "language_info": {
   "codemirror_mode": {
    "name": "ipython",
    "version": 3
   },
   "file_extension": ".py",
   "mimetype": "text/x-python",
   "name": "python",
   "nbconvert_exporter": "python",
   "pygments_lexer": "ipython3",
   "version": "3.10.15"
  }
 },
 "nbformat": 4,
 "nbformat_minor": 4
}
